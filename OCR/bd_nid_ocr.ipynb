{
  "cells": [
    {
      "cell_type": "markdown",
      "metadata": {
        "colab_type": "text",
        "id": "view-in-github"
      },
      "source": [
        "<a href=\"https://colab.research.google.com/github/Nur-Alam39/bd-nid-image-to-text/blob/main/bd_nid_ocr.ipynb\" target=\"_parent\"><img src=\"https://colab.research.google.com/assets/colab-badge.svg\" alt=\"Open In Colab\"/></a>"
      ]
    },
    {
      "cell_type": "code",
      "execution_count": 3,
      "metadata": {
        "id": "R1TFEwBSKms9"
      },
      "outputs": [
        {
          "name": "stdout",
          "output_type": "stream",
          "text": [
            "Collecting easyocr\n",
            "  Using cached easyocr-1.7.2-py3-none-any.whl.metadata (10 kB)\n",
            "Collecting torch (from easyocr)\n",
            "  Using cached torch-2.7.0-cp310-cp310-win_amd64.whl.metadata (29 kB)\n",
            "Collecting torchvision>=0.5 (from easyocr)\n",
            "  Using cached torchvision-0.22.0-cp310-cp310-win_amd64.whl.metadata (6.3 kB)\n",
            "Collecting opencv-python-headless (from easyocr)\n",
            "  Using cached opencv_python_headless-4.11.0.86-cp37-abi3-win_amd64.whl.metadata (20 kB)\n",
            "Requirement already satisfied: scipy in c:\\users\\saifu\\anaconda3\\envs\\nid_ocr\\lib\\site-packages (from easyocr) (1.15.2)\n",
            "Requirement already satisfied: numpy in c:\\users\\saifu\\anaconda3\\envs\\nid_ocr\\lib\\site-packages (from easyocr) (2.2.5)\n",
            "Requirement already satisfied: Pillow in c:\\users\\saifu\\anaconda3\\envs\\nid_ocr\\lib\\site-packages (from easyocr) (11.2.1)\n",
            "Requirement already satisfied: scikit-image in c:\\users\\saifu\\anaconda3\\envs\\nid_ocr\\lib\\site-packages (from easyocr) (0.25.2)\n",
            "Requirement already satisfied: python-bidi in c:\\users\\saifu\\anaconda3\\envs\\nid_ocr\\lib\\site-packages (from easyocr) (0.6.6)\n",
            "Requirement already satisfied: PyYAML in c:\\users\\saifu\\anaconda3\\envs\\nid_ocr\\lib\\site-packages (from easyocr) (6.0.2)\n",
            "Requirement already satisfied: Shapely in c:\\users\\saifu\\anaconda3\\envs\\nid_ocr\\lib\\site-packages (from easyocr) (2.1.0)\n",
            "Requirement already satisfied: pyclipper in c:\\users\\saifu\\anaconda3\\envs\\nid_ocr\\lib\\site-packages (from easyocr) (1.3.0.post6)\n",
            "Collecting ninja (from easyocr)\n",
            "  Using cached ninja-1.11.1.4-py3-none-win_amd64.whl.metadata (5.0 kB)\n",
            "Collecting filelock (from torch->easyocr)\n",
            "  Using cached filelock-3.18.0-py3-none-any.whl.metadata (2.9 kB)\n",
            "Requirement already satisfied: typing-extensions>=4.10.0 in c:\\users\\saifu\\appdata\\roaming\\python\\python310\\site-packages (from torch->easyocr) (4.13.2)\n",
            "Requirement already satisfied: sympy>=1.13.3 in c:\\users\\saifu\\anaconda3\\envs\\nid_ocr\\lib\\site-packages (from torch->easyocr) (1.14.0)\n",
            "Requirement already satisfied: networkx in c:\\users\\saifu\\anaconda3\\envs\\nid_ocr\\lib\\site-packages (from torch->easyocr) (3.4.2)\n",
            "Collecting jinja2 (from torch->easyocr)\n",
            "  Using cached jinja2-3.1.6-py3-none-any.whl.metadata (2.9 kB)\n",
            "Collecting fsspec (from torch->easyocr)\n",
            "  Using cached fsspec-2025.3.2-py3-none-any.whl.metadata (11 kB)\n",
            "Requirement already satisfied: mpmath<1.4,>=1.1.0 in c:\\users\\saifu\\anaconda3\\envs\\nid_ocr\\lib\\site-packages (from sympy>=1.13.3->torch->easyocr) (1.3.0)\n",
            "Requirement already satisfied: MarkupSafe>=2.0 in c:\\users\\saifu\\anaconda3\\envs\\nid_ocr\\lib\\site-packages (from jinja2->torch->easyocr) (3.0.2)\n",
            "Requirement already satisfied: imageio!=2.35.0,>=2.33 in c:\\users\\saifu\\anaconda3\\envs\\nid_ocr\\lib\\site-packages (from scikit-image->easyocr) (2.37.0)\n",
            "Requirement already satisfied: tifffile>=2022.8.12 in c:\\users\\saifu\\anaconda3\\envs\\nid_ocr\\lib\\site-packages (from scikit-image->easyocr) (2025.3.30)\n",
            "Requirement already satisfied: packaging>=21 in c:\\users\\saifu\\appdata\\roaming\\python\\python310\\site-packages (from scikit-image->easyocr) (25.0)\n",
            "Requirement already satisfied: lazy-loader>=0.4 in c:\\users\\saifu\\anaconda3\\envs\\nid_ocr\\lib\\site-packages (from scikit-image->easyocr) (0.4)\n",
            "Using cached easyocr-1.7.2-py3-none-any.whl (2.9 MB)\n",
            "Using cached torchvision-0.22.0-cp310-cp310-win_amd64.whl (1.7 MB)\n",
            "Using cached torch-2.7.0-cp310-cp310-win_amd64.whl (212.5 MB)\n",
            "Using cached filelock-3.18.0-py3-none-any.whl (16 kB)\n",
            "Using cached fsspec-2025.3.2-py3-none-any.whl (194 kB)\n",
            "Using cached jinja2-3.1.6-py3-none-any.whl (134 kB)\n",
            "Using cached ninja-1.11.1.4-py3-none-win_amd64.whl (296 kB)\n",
            "Using cached opencv_python_headless-4.11.0.86-cp37-abi3-win_amd64.whl (39.4 MB)\n",
            "Installing collected packages: opencv-python-headless, ninja, jinja2, fsspec, filelock, torch, torchvision, easyocr\n",
            "\n",
            "   ---------------------------------------- 0/8 [opencv-python-headless]\n",
            "\n",
            "Note: you may need to restart the kernel to use updated packages.\n"
          ]
        },
        {
          "name": "stderr",
          "output_type": "stream",
          "text": [
            "ERROR: Could not install packages due to an OSError: [WinError 5] Access is denied: 'c:\\\\Users\\\\saifu\\\\anaconda3\\\\envs\\\\nid_ocr\\\\Lib\\\\site-packages\\\\cv2\\\\cv2.pyd'\n",
            "Consider using the `--user` option or check the permissions.\n",
            "\n"
          ]
        }
      ],
      "source": [
        "pip install easyocr"
      ]
    },
    {
      "cell_type": "code",
      "execution_count": 1,
      "metadata": {
        "colab": {
          "base_uri": "https://localhost:8080/"
        },
        "id": "IjkAbAV0JOLM",
        "outputId": "7ce72b1f-baa8-4cfc-de32-69d606d05106"
      },
      "outputs": [
        {
          "name": "stderr",
          "output_type": "stream",
          "text": [
            "Neither CUDA nor MPS are available - defaulting to CPU. Note: This module is much faster with a GPU.\n"
          ]
        },
        {
          "name": "stdout",
          "output_type": "stream",
          "text": [
            "IID\n",
            "OF\n",
            "Rl}\n",
            "OF\n",
            "APT. 138,\n",
            "0$\n",
            "23/1\n",
            "OF YOUR\n",
            "CARD\n",
            "IDENTITY\n",
            "NATIONAL\n",
            "WEBSTER\n",
            "JEFFREY\n",
            "PHOTO\n",
            "NAME:\n",
            "003402991991\n",
            "NUMBER:\n",
            "30/09/1952\n",
            "BIRTH:\n",
            "98242\n",
            "DATE\n",
            "DANIEL\n",
            "MARKFORT;\n",
            "EAST\n",
            "BIRTH:\n",
            "PLACE\n",
            "PARKAYYS\n",
            "CARL\n",
            "0449\n",
            "ADDRESS:\n",
            "02/07/2018\n",
            "DATE:\n",
            "ISSUE\n",
            "1/2034\n",
            "DATE:\n",
            "EXPIRY\n",
            "COUNTRY\n",
            "GOVERNMENT\n"
          ]
        }
      ],
      "source": [
        "import easyocr\n",
        "\n",
        "IMAGE_PATH = 'C:\\\\Users\\\\saifu\\\\OneDrive\\\\Desktop\\\\NIDOCR\\\\synthetic_nid_dataset\\\\images\\\\nid_0003.jpg'\n",
        "\n",
        "reader = easyocr.Reader(['en', 'bn'], gpu=True)\n",
        "result = reader.readtext(IMAGE_PATH)\n",
        "\n",
        "text = []\n",
        "with open(\"nid.txt\", 'w') as f:\n",
        "    for detection in result:\n",
        "        text.append(detection[1])\n",
        "        f.write(detection[1])  # Corrected from 'i' to 'detection[1]'\n",
        "        f.write('\\n')\n",
        "        print(detection[1])\n"
      ]
    }
  ],
  "metadata": {
    "colab": {
      "authorship_tag": "ABX9TyOokpbRDa1um8rxDVunW70I",
      "include_colab_link": true,
      "name": "bd nid ocr.ipynb",
      "provenance": []
    },
    "kernelspec": {
      "display_name": "ocr_nid",
      "language": "python",
      "name": "python3"
    },
    "language_info": {
      "codemirror_mode": {
        "name": "ipython",
        "version": 3
      },
      "file_extension": ".py",
      "mimetype": "text/x-python",
      "name": "python",
      "nbconvert_exporter": "python",
      "pygments_lexer": "ipython3",
      "version": "3.8.20"
    }
  },
  "nbformat": 4,
  "nbformat_minor": 0
}
